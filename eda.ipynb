{
  "nbformat": 4,
  "nbformat_minor": 0,
  "metadata": {
    "colab": {
      "provenance": []
    },
    "kernelspec": {
      "name": "python3",
      "display_name": "Python 3"
    },
    "language_info": {
      "name": "python"
    }
  },
  "cells": [
    {
      "cell_type": "code",
      "execution_count": 13,
      "metadata": {
        "colab": {
          "base_uri": "https://localhost:8080/"
        },
        "id": "o9A0wxDK-CDA",
        "outputId": "b7cead25-469c-43e9-ccb9-e184d1ea3f41"
      },
      "outputs": [
        {
          "output_type": "execute_result",
          "data": {
            "text/plain": [
              "num    0\n",
              "       0\n",
              "       0\n",
              "       0\n",
              "dtype: int64"
            ]
          },
          "metadata": {},
          "execution_count": 13
        }
      ],
      "source": [
        "!pip install --upgrade matplotlib > None # need refresh enviroment after installation\n",
        "!pip install basemap > None\n",
        "import warnings\n",
        "warnings.filterwarnings('ignore')\n",
        "\n",
        "import numpy as np\n",
        "import pandas as pd\n",
        "\n",
        "import seaborn as sns\n",
        "from matplotlib import pyplot as plt\n",
        "from matplotlib.cbook import boxplot_stats\n",
        "from mpl_toolkits.basemap import Basemap\n",
        "\n",
        "from sklearn.preprocessing import StandardScaler, LabelEncoder\n",
        "from sklearn.decomposition import PCA\n",
        "\n",
        "%matplotlib inline\n",
        "\n",
        "path = 'dataset_2.csv'\n",
        "data = pd.read_csv(path)\n",
        "new_col_names = ['_'.join(s.split()[1:]) for s in data.columns]\n",
        "new_col_names[0] = 'num'\n",
        "data.columns = new_col_names\n",
        "data.head() # 1\n",
        "data.columns # 2\n",
        "data.shape # 3\n",
        "data.dtypes # 4\n",
        "data.isna().sum() # 5\n"
      ]
    }
  ]
}