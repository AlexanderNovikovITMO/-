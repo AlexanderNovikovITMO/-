{
  "nbformat": 4,
  "nbformat_minor": 0,
  "metadata": {
    "colab": {
      "provenance": []
    },
    "kernelspec": {
      "name": "python3",
      "display_name": "Python 3"
    },
    "language_info": {
      "name": "python"
    }
  },
  "cells": [
    {
      "cell_type": "code",
      "execution_count": 35,
      "metadata": {
        "colab": {
          "base_uri": "https://localhost:8080/",
          "height": 334
        },
        "id": "HQYZBAuyLJ2W",
        "outputId": "6a216c66-773e-46ea-855e-a869d86c2e7a"
      },
      "outputs": [
        {
          "output_type": "stream",
          "name": "stdout",
          "text": [
            "MSE for Dummy Regressor: 0.0028478247000000008\n",
            "RMSE for Dummy Regressor: 0.053365013819917644\n",
            "R2 score for Dummy Regressor: -0.11054387840820357\n"
          ]
        },
        {
          "output_type": "display_data",
          "data": {
            "text/plain": [
              "<Figure size 432x288 with 1 Axes>"
            ],
            "image/png": "[encoded data removed]"
          },
          "metadata": {}
        }
      ],
      "source": [
        "from math import pi\n",
        "import matplotlib.pyplot as plt\n",
        "import matplotlib\n",
        "matplotlib.style.use('ggplot')\n",
        "import seaborn as sns\n",
        "import numpy as np\n",
        "import pandas as pd\n",
        "from sklearn.model_selection import train_test_split \n",
        "from sklearn.dummy import DummyClassifier \n",
        "from sklearn.linear_model import LogisticRegression\n",
        "from sklearn.linear_model import LinearRegression\n",
        "from sklearn.dummy import DummyRegressor\n",
        "\n",
        "data = pd.read_csv('dataset_3.csv')\n",
        "y = data[\"HOMO_Energy\"] \n",
        "X = data[\"LUMO_Energy\"] \n",
        "\n",
        "X_train, X_test, y_train, y_test = train_test_split(X, y, random_state=2023, test_size=0.25)\n",
        "\n",
        "X = pd.read_csv('dataset_3.csv')\n",
        "X_train, X_test, y_train, y_test = train_test_split(X, y, random_state=2023, test_size=0.25)\n",
        "X_train.head()\n",
        "\n",
        "y.plot(kind='kde', title='Target density');\n",
        "\n",
        "dummy = DummyRegressor(strategy='median')\n",
        "dummy.fit(X_train, y_train)\n",
        "y_preds_dummy = dummy.predict(X_test)\n",
        "\n",
        "from sklearn.metrics import mean_squared_error\n",
        "import seaborn as sns\n",
        "import pandas as pd\n",
        "\n",
        "print(f'MSE for Dummy Regressor: {mean_squared_error(y_test, y_preds_dummy)}')\n",
        "print(f'RMSE for Dummy Regressor: {mean_squared_error(y_test, y_preds_dummy, squared=False)}')\n",
        "\n",
        "def plot_model_results(actual, predicted, title):\n",
        "  results = pd.DataFrame({'True': actual, 'Prediction': predicted})\n",
        "  sns.lmplot(x='True', y='Prediction', data=results, fit_reg=False)\n",
        "  d_line= np.arange(results.min().min(), results.max().max())\n",
        "  plt.plot(d_line, d_line, color='red', linestyle='--')\n",
        "  plt.title = title\n",
        "  plt.grid()\n",
        "  plt.show()\n",
        "\n",
        "  plot_model_results(y_test, y_preds_dummy, title='Dummy')\n",
        "\n",
        "  plot_model_results(y_test, y_preds_lr, title='Linear Regression')\n",
        "\n",
        "  from sklearn.metrics import mean_absolute_error\n",
        "  print(f'MAE for Dummy Regressor: {mean_absolute_error(y_test, y_preds_dummy)}')\n",
        "\n",
        "\n",
        "  from sklearn.metrics import mean_absolute_percentage_error\n",
        "  print(f'MAPE for Dummy Regressor: {mean_absolute_percentage_error(y_test, y_preds_dummy)}')\n",
        "\n",
        "from sklearn.metrics import r2_score\n",
        "print(f'R2 score for Dummy Regressor: {r2_score(y_test, y_preds_dummy)}')\n",
        "\n",
        "\n",
        "\n"
      ]
    }
  ]
}